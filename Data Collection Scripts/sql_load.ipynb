{
 "cells": [
  {
   "cell_type": "code",
   "execution_count": 1,
   "metadata": {},
   "outputs": [],
   "source": [
    "import pandas as pd\n",
    "import os"
   ]
  },
  {
   "cell_type": "code",
   "execution_count": 3,
   "metadata": {},
   "outputs": [
    {
     "output_type": "execute_result",
     "data": {
      "text/plain": [
       "   Unnamed: 0 LOCATION  SUBJECT  TIME      Value\n",
       "0           0      AUS  BUPPSRY  2000  41.212311\n",
       "1           1      AUS  BUPPSRY  2001  41.076141\n",
       "2           2      AUS  BUPPSRY  2002  39.050316\n",
       "3           3      AUS  BUPPSRY  2003  37.519817\n",
       "4           4      AUS  BUPPSRY  2004  35.879036"
      ],
      "text/html": "<div>\n<style scoped>\n    .dataframe tbody tr th:only-of-type {\n        vertical-align: middle;\n    }\n\n    .dataframe tbody tr th {\n        vertical-align: top;\n    }\n\n    .dataframe thead th {\n        text-align: right;\n    }\n</style>\n<table border=\"1\" class=\"dataframe\">\n  <thead>\n    <tr style=\"text-align: right;\">\n      <th></th>\n      <th>Unnamed: 0</th>\n      <th>LOCATION</th>\n      <th>SUBJECT</th>\n      <th>TIME</th>\n      <th>Value</th>\n    </tr>\n  </thead>\n  <tbody>\n    <tr>\n      <th>0</th>\n      <td>0</td>\n      <td>AUS</td>\n      <td>BUPPSRY</td>\n      <td>2000</td>\n      <td>41.212311</td>\n    </tr>\n    <tr>\n      <th>1</th>\n      <td>1</td>\n      <td>AUS</td>\n      <td>BUPPSRY</td>\n      <td>2001</td>\n      <td>41.076141</td>\n    </tr>\n    <tr>\n      <th>2</th>\n      <td>2</td>\n      <td>AUS</td>\n      <td>BUPPSRY</td>\n      <td>2002</td>\n      <td>39.050316</td>\n    </tr>\n    <tr>\n      <th>3</th>\n      <td>3</td>\n      <td>AUS</td>\n      <td>BUPPSRY</td>\n      <td>2003</td>\n      <td>37.519817</td>\n    </tr>\n    <tr>\n      <th>4</th>\n      <td>4</td>\n      <td>AUS</td>\n      <td>BUPPSRY</td>\n      <td>2004</td>\n      <td>35.879036</td>\n    </tr>\n  </tbody>\n</table>\n</div>"
     },
     "metadata": {},
     "execution_count": 3
    }
   ],
   "source": [
    "# load education data\n",
    "path = \"../Cleaned Data/adult_education_level.csv\"\n",
    "education_df = pd.read_csv(path)\n",
    "education_df.head()"
   ]
  },
  {
   "cell_type": "code",
   "execution_count": 5,
   "metadata": {},
   "outputs": [
    {
     "output_type": "execute_result",
     "data": {
      "text/plain": [
       "   Unnamed: 0                       Country     Lat     Lon  Temperature  \\\n",
       "0           0                         Aruba  12.517 -70.033           79   \n",
       "1           1                   Afghanistan  34.517  69.183           30   \n",
       "2           2                        Angola  -8.838  13.234           77   \n",
       "3           3                      Anguilla  18.217 -63.050           79   \n",
       "4           4  USA United States of America  25.784 -80.134           79   \n",
       "\n",
       "   \"Feels Like\"  Precipitaion  Cloudiness  Visiblity  Wind Speed  \\\n",
       "0            84           0.0          25          6          11   \n",
       "1            28           0.0           0          4           2   \n",
       "2            81           0.0          50          6           8   \n",
       "3            82           0.0          50          6          11   \n",
       "4            81           0.0          25         10           6   \n",
       "\n",
       "         Local Time  \n",
       "0  2020-11-16 21:22  \n",
       "1  2020-11-17 05:52  \n",
       "2  2020-11-17 02:22  \n",
       "3  2020-11-16 21:22  \n",
       "4  2020-11-16 20:22  "
      ],
      "text/html": "<div>\n<style scoped>\n    .dataframe tbody tr th:only-of-type {\n        vertical-align: middle;\n    }\n\n    .dataframe tbody tr th {\n        vertical-align: top;\n    }\n\n    .dataframe thead th {\n        text-align: right;\n    }\n</style>\n<table border=\"1\" class=\"dataframe\">\n  <thead>\n    <tr style=\"text-align: right;\">\n      <th></th>\n      <th>Unnamed: 0</th>\n      <th>Country</th>\n      <th>Lat</th>\n      <th>Lon</th>\n      <th>Temperature</th>\n      <th>\"Feels Like\"</th>\n      <th>Precipitaion</th>\n      <th>Cloudiness</th>\n      <th>Visiblity</th>\n      <th>Wind Speed</th>\n      <th>Local Time</th>\n    </tr>\n  </thead>\n  <tbody>\n    <tr>\n      <th>0</th>\n      <td>0</td>\n      <td>Aruba</td>\n      <td>12.517</td>\n      <td>-70.033</td>\n      <td>79</td>\n      <td>84</td>\n      <td>0.0</td>\n      <td>25</td>\n      <td>6</td>\n      <td>11</td>\n      <td>2020-11-16 21:22</td>\n    </tr>\n    <tr>\n      <th>1</th>\n      <td>1</td>\n      <td>Afghanistan</td>\n      <td>34.517</td>\n      <td>69.183</td>\n      <td>30</td>\n      <td>28</td>\n      <td>0.0</td>\n      <td>0</td>\n      <td>4</td>\n      <td>2</td>\n      <td>2020-11-17 05:52</td>\n    </tr>\n    <tr>\n      <th>2</th>\n      <td>2</td>\n      <td>Angola</td>\n      <td>-8.838</td>\n      <td>13.234</td>\n      <td>77</td>\n      <td>81</td>\n      <td>0.0</td>\n      <td>50</td>\n      <td>6</td>\n      <td>8</td>\n      <td>2020-11-17 02:22</td>\n    </tr>\n    <tr>\n      <th>3</th>\n      <td>3</td>\n      <td>Anguilla</td>\n      <td>18.217</td>\n      <td>-63.050</td>\n      <td>79</td>\n      <td>82</td>\n      <td>0.0</td>\n      <td>50</td>\n      <td>6</td>\n      <td>11</td>\n      <td>2020-11-16 21:22</td>\n    </tr>\n    <tr>\n      <th>4</th>\n      <td>4</td>\n      <td>USA United States of America</td>\n      <td>25.784</td>\n      <td>-80.134</td>\n      <td>79</td>\n      <td>81</td>\n      <td>0.0</td>\n      <td>25</td>\n      <td>10</td>\n      <td>6</td>\n      <td>2020-11-16 20:22</td>\n    </tr>\n  </tbody>\n</table>\n</div>"
     },
     "metadata": {},
     "execution_count": 5
    }
   ],
   "source": [
    "# load weather data\n",
    "path = \"../Cleaned Data/global_weather_data.csv\"\n",
    "weather_df = pd.read_csv(path)\n",
    "weather_df.head()"
   ]
  },
  {
   "cell_type": "code",
   "execution_count": 6,
   "metadata": {},
   "outputs": [
    {
     "output_type": "execute_result",
     "data": {
      "text/plain": [
       "   Unnamed: 0        Country  Eligible_Population  Total_English_Speakers  \\\n",
       "0           0  United States         2.966030e+08             283160411.0   \n",
       "1           1          India         1.028737e+09             125344737.0   \n",
       "2           2       Pakistan         1.884001e+08             108036049.0   \n",
       "3           3        Nigeria         1.564930e+08              79000000.0   \n",
       "4           4    Philippines         1.100000e+08              64025890.0   \n",
       "\n",
       "   Percent_English_Speakers  Land_Area  Population_Density  \n",
       "0                  0.954678  9161923.0           32.373444  \n",
       "1                  0.121843  2973190.0          346.004607  \n",
       "2                  0.573439   778720.0          241.935612  \n",
       "3                  0.504815   910768.0          171.825317  \n",
       "4                  0.582054   298170.0          368.917061  "
      ],
      "text/html": "<div>\n<style scoped>\n    .dataframe tbody tr th:only-of-type {\n        vertical-align: middle;\n    }\n\n    .dataframe tbody tr th {\n        vertical-align: top;\n    }\n\n    .dataframe thead th {\n        text-align: right;\n    }\n</style>\n<table border=\"1\" class=\"dataframe\">\n  <thead>\n    <tr style=\"text-align: right;\">\n      <th></th>\n      <th>Unnamed: 0</th>\n      <th>Country</th>\n      <th>Eligible_Population</th>\n      <th>Total_English_Speakers</th>\n      <th>Percent_English_Speakers</th>\n      <th>Land_Area</th>\n      <th>Population_Density</th>\n    </tr>\n  </thead>\n  <tbody>\n    <tr>\n      <th>0</th>\n      <td>0</td>\n      <td>United States</td>\n      <td>2.966030e+08</td>\n      <td>283160411.0</td>\n      <td>0.954678</td>\n      <td>9161923.0</td>\n      <td>32.373444</td>\n    </tr>\n    <tr>\n      <th>1</th>\n      <td>1</td>\n      <td>India</td>\n      <td>1.028737e+09</td>\n      <td>125344737.0</td>\n      <td>0.121843</td>\n      <td>2973190.0</td>\n      <td>346.004607</td>\n    </tr>\n    <tr>\n      <th>2</th>\n      <td>2</td>\n      <td>Pakistan</td>\n      <td>1.884001e+08</td>\n      <td>108036049.0</td>\n      <td>0.573439</td>\n      <td>778720.0</td>\n      <td>241.935612</td>\n    </tr>\n    <tr>\n      <th>3</th>\n      <td>3</td>\n      <td>Nigeria</td>\n      <td>1.564930e+08</td>\n      <td>79000000.0</td>\n      <td>0.504815</td>\n      <td>910768.0</td>\n      <td>171.825317</td>\n    </tr>\n    <tr>\n      <th>4</th>\n      <td>4</td>\n      <td>Philippines</td>\n      <td>1.100000e+08</td>\n      <td>64025890.0</td>\n      <td>0.582054</td>\n      <td>298170.0</td>\n      <td>368.917061</td>\n    </tr>\n  </tbody>\n</table>\n</div>"
     },
     "metadata": {},
     "execution_count": 6
    }
   ],
   "source": [
    "# load population density and english speaking data\n",
    "path = \"../Cleaned Data/population_density_and_english_speaking.csv\"\n",
    "population_english_data_df = pd.read_csv(path)\n",
    "population_english_data_df.head()"
   ]
  },
  {
   "cell_type": "code",
   "execution_count": null,
   "metadata": {},
   "outputs": [],
   "source": []
  }
 ],
 "metadata": {
  "kernelspec": {
   "display_name": "Python 3.6.10 64-bit ('PythonData': conda)",
   "language": "python",
   "name": "python361064bitpythondataconda5e60201c834b4eef8ff9456a40895e69"
  },
  "language_info": {
   "codemirror_mode": {
    "name": "ipython",
    "version": 3
   },
   "file_extension": ".py",
   "mimetype": "text/x-python",
   "name": "python",
   "nbconvert_exporter": "python",
   "pygments_lexer": "ipython3",
   "version": "3.6.10-final"
  }
 },
 "nbformat": 4,
 "nbformat_minor": 4
}