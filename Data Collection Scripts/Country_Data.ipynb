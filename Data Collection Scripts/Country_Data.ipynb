{
 "cells": [
  {
   "cell_type": "code",
   "execution_count": 1,
   "metadata": {},
   "outputs": [],
   "source": [
    "# Dependencies and Setup (Honestly I copy and pasted these and won't use all of them)\n",
    "import pandas as pd\n",
    "import numpy as np\n",
    "import requests\n",
    "import time\n",
    "import json\n",
    "import csv\n",
    "import scipy.stats as sts\n",
    "from datetime import date\n",
    "from scipy.stats import linregress\n",
    "\n",
    "# May need to run pip install pycountry\n",
    "import pycountry   #https://pypi.org/project/pycountry/#description"
   ]
  },
  {
   "cell_type": "code",
   "execution_count": 11,
   "metadata": {},
   "outputs": [
    {
     "data": {
      "text/plain": [
       "Country(alpha_2='AW', alpha_3='ABW', name='Aruba', numeric='533')"
      ]
     },
     "execution_count": 11,
     "metadata": {},
     "output_type": "execute_result"
    }
   ],
   "source": [
    "countries = list(pycountry.countries)\n",
    "countries[0]"
   ]
  },
  {
   "cell_type": "code",
   "execution_count": 21,
   "metadata": {},
   "outputs": [],
   "source": [
    "country_alpha_2 = []\n",
    "country_alpha_3 = []\n",
    "country_name = []\n",
    "country_numeric = []\n",
    "\n",
    "for i in countries:\n",
    "    country_alpha_2.append(i.alpha_2)\n",
    "    country_alpha_3.append(i.alpha_3)\n",
    "    country_name.append(i.name)\n",
    "    country_numeric.append(i.numeric)\n",
    "    \n",
    "    country_dict = {\n",
    "        'Country': country_name,\n",
    "        '2 Letter Alpha Code': country_alpha_2,\n",
    "        '3 Letter Alpha Code': country_alpha_3,\n",
    "        'Numeric Country Code': country_numeric\n",
    "    }\n",
    "    "
   ]
  },
  {
   "cell_type": "code",
   "execution_count": 27,
   "metadata": {},
   "outputs": [],
   "source": [
    "country_df = pd.DataFrame(country_dict)"
   ]
  },
  {
   "cell_type": "code",
   "execution_count": 28,
   "metadata": {},
   "outputs": [
    {
     "data": {
      "text/html": [
       "<div>\n",
       "<style scoped>\n",
       "    .dataframe tbody tr th:only-of-type {\n",
       "        vertical-align: middle;\n",
       "    }\n",
       "\n",
       "    .dataframe tbody tr th {\n",
       "        vertical-align: top;\n",
       "    }\n",
       "\n",
       "    .dataframe thead th {\n",
       "        text-align: right;\n",
       "    }\n",
       "</style>\n",
       "<table border=\"1\" class=\"dataframe\">\n",
       "  <thead>\n",
       "    <tr style=\"text-align: right;\">\n",
       "      <th></th>\n",
       "      <th>Country</th>\n",
       "      <th>2 Letter Alpha Code</th>\n",
       "      <th>3 Letter Alpha Code</th>\n",
       "      <th>Numeric Country Code</th>\n",
       "    </tr>\n",
       "  </thead>\n",
       "  <tbody>\n",
       "    <tr>\n",
       "      <th>0</th>\n",
       "      <td>Aruba</td>\n",
       "      <td>AW</td>\n",
       "      <td>ABW</td>\n",
       "      <td>533</td>\n",
       "    </tr>\n",
       "    <tr>\n",
       "      <th>1</th>\n",
       "      <td>Afghanistan</td>\n",
       "      <td>AF</td>\n",
       "      <td>AFG</td>\n",
       "      <td>004</td>\n",
       "    </tr>\n",
       "    <tr>\n",
       "      <th>2</th>\n",
       "      <td>Angola</td>\n",
       "      <td>AO</td>\n",
       "      <td>AGO</td>\n",
       "      <td>024</td>\n",
       "    </tr>\n",
       "    <tr>\n",
       "      <th>3</th>\n",
       "      <td>Anguilla</td>\n",
       "      <td>AI</td>\n",
       "      <td>AIA</td>\n",
       "      <td>660</td>\n",
       "    </tr>\n",
       "    <tr>\n",
       "      <th>4</th>\n",
       "      <td>Åland Islands</td>\n",
       "      <td>AX</td>\n",
       "      <td>ALA</td>\n",
       "      <td>248</td>\n",
       "    </tr>\n",
       "    <tr>\n",
       "      <th>...</th>\n",
       "      <td>...</td>\n",
       "      <td>...</td>\n",
       "      <td>...</td>\n",
       "      <td>...</td>\n",
       "    </tr>\n",
       "    <tr>\n",
       "      <th>244</th>\n",
       "      <td>Samoa</td>\n",
       "      <td>WS</td>\n",
       "      <td>WSM</td>\n",
       "      <td>882</td>\n",
       "    </tr>\n",
       "    <tr>\n",
       "      <th>245</th>\n",
       "      <td>Yemen</td>\n",
       "      <td>YE</td>\n",
       "      <td>YEM</td>\n",
       "      <td>887</td>\n",
       "    </tr>\n",
       "    <tr>\n",
       "      <th>246</th>\n",
       "      <td>South Africa</td>\n",
       "      <td>ZA</td>\n",
       "      <td>ZAF</td>\n",
       "      <td>710</td>\n",
       "    </tr>\n",
       "    <tr>\n",
       "      <th>247</th>\n",
       "      <td>Zambia</td>\n",
       "      <td>ZM</td>\n",
       "      <td>ZMB</td>\n",
       "      <td>894</td>\n",
       "    </tr>\n",
       "    <tr>\n",
       "      <th>248</th>\n",
       "      <td>Zimbabwe</td>\n",
       "      <td>ZW</td>\n",
       "      <td>ZWE</td>\n",
       "      <td>716</td>\n",
       "    </tr>\n",
       "  </tbody>\n",
       "</table>\n",
       "<p>249 rows × 4 columns</p>\n",
       "</div>"
      ],
      "text/plain": [
       "           Country 2 Letter Alpha Code 3 Letter Alpha Code  \\\n",
       "0            Aruba                  AW                 ABW   \n",
       "1      Afghanistan                  AF                 AFG   \n",
       "2           Angola                  AO                 AGO   \n",
       "3         Anguilla                  AI                 AIA   \n",
       "4    Åland Islands                  AX                 ALA   \n",
       "..             ...                 ...                 ...   \n",
       "244          Samoa                  WS                 WSM   \n",
       "245          Yemen                  YE                 YEM   \n",
       "246   South Africa                  ZA                 ZAF   \n",
       "247         Zambia                  ZM                 ZMB   \n",
       "248       Zimbabwe                  ZW                 ZWE   \n",
       "\n",
       "    Numeric Country Code  \n",
       "0                    533  \n",
       "1                    004  \n",
       "2                    024  \n",
       "3                    660  \n",
       "4                    248  \n",
       "..                   ...  \n",
       "244                  882  \n",
       "245                  887  \n",
       "246                  710  \n",
       "247                  894  \n",
       "248                  716  \n",
       "\n",
       "[249 rows x 4 columns]"
      ]
     },
     "execution_count": 28,
     "metadata": {},
     "output_type": "execute_result"
    }
   ],
   "source": [
    "country_df"
   ]
  },
  {
   "cell_type": "code",
   "execution_count": 29,
   "metadata": {},
   "outputs": [],
   "source": [
    "country_df.to_csv('country_data.csv')"
   ]
  },
  {
   "cell_type": "code",
   "execution_count": null,
   "metadata": {},
   "outputs": [],
   "source": []
  }
 ],
 "metadata": {
  "kernelspec": {
   "display_name": "Python 3",
   "language": "python",
   "name": "python3"
  },
  "language_info": {
   "codemirror_mode": {
    "name": "ipython",
    "version": 3
   },
   "file_extension": ".py",
   "mimetype": "text/x-python",
   "name": "python",
   "nbconvert_exporter": "python",
   "pygments_lexer": "ipython3",
   "version": "3.7.6"
  }
 },
 "nbformat": 4,
 "nbformat_minor": 4
}
