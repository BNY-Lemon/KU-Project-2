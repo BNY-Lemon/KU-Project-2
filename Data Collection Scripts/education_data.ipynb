{
 "cells": [
  {
   "cell_type": "code",
   "execution_count": 10,
   "metadata": {},
   "outputs": [],
   "source": [
    "import pandas as pd\n",
    "import os"
   ]
  },
  {
   "cell_type": "code",
   "execution_count": 8,
   "metadata": {},
   "outputs": [
    {
     "output_type": "execute_result",
     "data": {
      "text/plain": [
       "  LOCATION INDICATOR SUBJECT MEASURE FREQUENCY  TIME      Value  Flag Codes\n",
       "0      AUS    EDUTRY   25_34  PC_AGE         A  2015  48.466274         NaN\n",
       "1      AUS    EDUTRY   25_34  PC_AGE         A  2016  49.305210         NaN\n",
       "2      AUS    EDUTRY   25_34  PC_AGE         A  2017  51.989063         NaN\n",
       "3      AUS    EDUTRY   25_34  PC_AGE         A  2018  51.393173         NaN\n",
       "4      AUS    EDUTRY   25_34  PC_AGE         A  2019  52.478458         NaN\n",
       "5      AUT    EDUTRY   25_34  PC_AGE         A  2015  38.626846         NaN\n",
       "6      AUT    EDUTRY   25_34  PC_AGE         A  2016  39.671021         NaN\n",
       "7      AUT    EDUTRY   25_34  PC_AGE         A  2017  40.324657         NaN\n",
       "8      AUT    EDUTRY   25_34  PC_AGE         A  2018  40.458271         NaN\n",
       "9      AUT    EDUTRY   25_34  PC_AGE         A  2019  41.610401         NaN"
      ],
      "text/html": "<div>\n<style scoped>\n    .dataframe tbody tr th:only-of-type {\n        vertical-align: middle;\n    }\n\n    .dataframe tbody tr th {\n        vertical-align: top;\n    }\n\n    .dataframe thead th {\n        text-align: right;\n    }\n</style>\n<table border=\"1\" class=\"dataframe\">\n  <thead>\n    <tr style=\"text-align: right;\">\n      <th></th>\n      <th>LOCATION</th>\n      <th>INDICATOR</th>\n      <th>SUBJECT</th>\n      <th>MEASURE</th>\n      <th>FREQUENCY</th>\n      <th>TIME</th>\n      <th>Value</th>\n      <th>Flag Codes</th>\n    </tr>\n  </thead>\n  <tbody>\n    <tr>\n      <th>0</th>\n      <td>AUS</td>\n      <td>EDUTRY</td>\n      <td>25_34</td>\n      <td>PC_AGE</td>\n      <td>A</td>\n      <td>2015</td>\n      <td>48.466274</td>\n      <td>NaN</td>\n    </tr>\n    <tr>\n      <th>1</th>\n      <td>AUS</td>\n      <td>EDUTRY</td>\n      <td>25_34</td>\n      <td>PC_AGE</td>\n      <td>A</td>\n      <td>2016</td>\n      <td>49.305210</td>\n      <td>NaN</td>\n    </tr>\n    <tr>\n      <th>2</th>\n      <td>AUS</td>\n      <td>EDUTRY</td>\n      <td>25_34</td>\n      <td>PC_AGE</td>\n      <td>A</td>\n      <td>2017</td>\n      <td>51.989063</td>\n      <td>NaN</td>\n    </tr>\n    <tr>\n      <th>3</th>\n      <td>AUS</td>\n      <td>EDUTRY</td>\n      <td>25_34</td>\n      <td>PC_AGE</td>\n      <td>A</td>\n      <td>2018</td>\n      <td>51.393173</td>\n      <td>NaN</td>\n    </tr>\n    <tr>\n      <th>4</th>\n      <td>AUS</td>\n      <td>EDUTRY</td>\n      <td>25_34</td>\n      <td>PC_AGE</td>\n      <td>A</td>\n      <td>2019</td>\n      <td>52.478458</td>\n      <td>NaN</td>\n    </tr>\n    <tr>\n      <th>5</th>\n      <td>AUT</td>\n      <td>EDUTRY</td>\n      <td>25_34</td>\n      <td>PC_AGE</td>\n      <td>A</td>\n      <td>2015</td>\n      <td>38.626846</td>\n      <td>NaN</td>\n    </tr>\n    <tr>\n      <th>6</th>\n      <td>AUT</td>\n      <td>EDUTRY</td>\n      <td>25_34</td>\n      <td>PC_AGE</td>\n      <td>A</td>\n      <td>2016</td>\n      <td>39.671021</td>\n      <td>NaN</td>\n    </tr>\n    <tr>\n      <th>7</th>\n      <td>AUT</td>\n      <td>EDUTRY</td>\n      <td>25_34</td>\n      <td>PC_AGE</td>\n      <td>A</td>\n      <td>2017</td>\n      <td>40.324657</td>\n      <td>NaN</td>\n    </tr>\n    <tr>\n      <th>8</th>\n      <td>AUT</td>\n      <td>EDUTRY</td>\n      <td>25_34</td>\n      <td>PC_AGE</td>\n      <td>A</td>\n      <td>2018</td>\n      <td>40.458271</td>\n      <td>NaN</td>\n    </tr>\n    <tr>\n      <th>9</th>\n      <td>AUT</td>\n      <td>EDUTRY</td>\n      <td>25_34</td>\n      <td>PC_AGE</td>\n      <td>A</td>\n      <td>2019</td>\n      <td>41.610401</td>\n      <td>NaN</td>\n    </tr>\n  </tbody>\n</table>\n</div>"
     },
     "metadata": {},
     "execution_count": 8
    }
   ],
   "source": [
    "url = \"https://data.oecd.org/eduatt/population-with-tertiary-education.htm#indicator-chart\"\n",
    "path = \"Raw Data/education_data.csv\"\n",
    "education_raw_data = pd.read_csv(path)\n",
    "education_raw_data.head(10)"
   ]
  },
  {
   "cell_type": "code",
   "execution_count": 12,
   "metadata": {},
   "outputs": [
    {
     "output_type": "execute_result",
     "data": {
      "text/plain": [
       "  LOCATION SUBJECT  TIME      Value\n",
       "0      AUS   25_34  2015  48.466274\n",
       "1      AUS   25_34  2016  49.305210\n",
       "2      AUS   25_34  2017  51.989063\n",
       "3      AUS   25_34  2018  51.393173\n",
       "4      AUS   25_34  2019  52.478458"
      ],
      "text/html": "<div>\n<style scoped>\n    .dataframe tbody tr th:only-of-type {\n        vertical-align: middle;\n    }\n\n    .dataframe tbody tr th {\n        vertical-align: top;\n    }\n\n    .dataframe thead th {\n        text-align: right;\n    }\n</style>\n<table border=\"1\" class=\"dataframe\">\n  <thead>\n    <tr style=\"text-align: right;\">\n      <th></th>\n      <th>LOCATION</th>\n      <th>SUBJECT</th>\n      <th>TIME</th>\n      <th>Value</th>\n    </tr>\n  </thead>\n  <tbody>\n    <tr>\n      <th>0</th>\n      <td>AUS</td>\n      <td>25_34</td>\n      <td>2015</td>\n      <td>48.466274</td>\n    </tr>\n    <tr>\n      <th>1</th>\n      <td>AUS</td>\n      <td>25_34</td>\n      <td>2016</td>\n      <td>49.305210</td>\n    </tr>\n    <tr>\n      <th>2</th>\n      <td>AUS</td>\n      <td>25_34</td>\n      <td>2017</td>\n      <td>51.989063</td>\n    </tr>\n    <tr>\n      <th>3</th>\n      <td>AUS</td>\n      <td>25_34</td>\n      <td>2018</td>\n      <td>51.393173</td>\n    </tr>\n    <tr>\n      <th>4</th>\n      <td>AUS</td>\n      <td>25_34</td>\n      <td>2019</td>\n      <td>52.478458</td>\n    </tr>\n  </tbody>\n</table>\n</div>"
     },
     "metadata": {},
     "execution_count": 12
    }
   ],
   "source": [
    "# data shows population with tertiary education as a percent in the same age group\n",
    "# drop columns we don't need to keep\n",
    "education_df = education_raw_data.drop(columns=[\"INDICATOR\", \"MEASURE\", \"FREQUENCY\", \"Flag Codes\"])\n",
    "education_df.head()"
   ]
  },
  {
   "cell_type": "code",
   "execution_count": null,
   "metadata": {},
   "outputs": [],
   "source": []
  }
 ],
 "metadata": {
  "kernelspec": {
   "display_name": "Python 3.6.10 64-bit ('PythonData': conda)",
   "language": "python",
   "name": "python361064bitpythondataconda5e60201c834b4eef8ff9456a40895e69"
  },
  "language_info": {
   "codemirror_mode": {
    "name": "ipython",
    "version": 3
   },
   "file_extension": ".py",
   "mimetype": "text/x-python",
   "name": "python",
   "nbconvert_exporter": "python",
   "pygments_lexer": "ipython3",
   "version": "3.6.10-final"
  }
 },
 "nbformat": 4,
 "nbformat_minor": 4
}